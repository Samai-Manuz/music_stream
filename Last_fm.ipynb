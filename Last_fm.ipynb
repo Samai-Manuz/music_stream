{
 "cells": [
  {
   "cell_type": "code",
   "execution_count": 1,
   "id": "cc411672",
   "metadata": {},
   "outputs": [
    {
     "name": "stdout",
     "output_type": "stream",
     "text": [
      "✅ pandas y requests están listos\n"
     ]
    }
   ],
   "source": [
    "import sys\n",
    "import subprocess\n",
    "\n",
    "# Función para instalar paquetes si no están presentes\n",
    "def install_and_import(package):\n",
    "    try:\n",
    "        __import__(package)\n",
    "    except ImportError:\n",
    "        print(f\"📦 Instalando {package} ...\")\n",
    "        subprocess.check_call([sys.executable, \"-m\", \"pip\", \"install\", package])\n",
    "    finally:\n",
    "        globals()[package] = __import__(package)\n",
    "\n",
    "# Instalar y cargar pandas y requests automáticamente\n",
    "install_and_import(\"pandas\")\n",
    "install_and_import(\"requests\")\n",
    "\n",
    "print(\"✅ pandas y requests están listos\")"
   ]
  },
  {
   "cell_type": "code",
   "execution_count": 2,
   "id": "d60a51c2",
   "metadata": {},
   "outputs": [
    {
     "name": "stdout",
     "output_type": "stream",
     "text": [
      "\n",
      "🎵 Descargando artistas del género: jazz ...\n",
      "\n",
      "🎵 Descargando artistas del género: rap ...\n",
      "\n",
      "🎵 Descargando artistas del género: metal ...\n",
      "\n",
      "🎵 Descargando artistas del género: blues ...\n",
      "\n",
      "✅ CSV generado con columnas: artista, genero, anio, similares, bio, listeners, playcount\n",
      "Total de artistas guardados: 2000\n"
     ]
    }
   ],
   "source": [
    "import requests\n",
    "import pandas as pd\n",
    "import time\n",
    "import urllib.parse\n",
    "\n",
    "API_KEY = \"5c53834bd454afc0fe8162c93b0a6054\"\n",
    "URL = \"http://ws.audioscrobbler.com/2.0/\"\n",
    "GENRES = [\"jazz\", \"rap\", \"metal\", \"blues\"]\n",
    "LIMIT_ARTISTS = 500\n",
    "\n",
    "cache = {}  # Para no pedir info repetida\n",
    "\n",
    "def get_top_artists(genre, limit=LIMIT_ARTISTS):\n",
    "    \"\"\"Obtiene artistas de un género usando tag.gettopartists\"\"\"\n",
    "    try:\n",
    "        r = requests.get(URL, params={\n",
    "            \"method\": \"tag.gettopartists\",\n",
    "            \"tag\": genre,\n",
    "            \"limit\": limit,\n",
    "            \"api_key\": API_KEY,\n",
    "            \"format\": \"json\"\n",
    "        }, timeout=20).json()\n",
    "        return r.get(\"topartists\", {}).get(\"artist\", [])\n",
    "    except:\n",
    "        return []\n",
    "\n",
    "def get_artist_info(name):\n",
    "    \"\"\"Obtiene info extra de un artista (similares, bio, listeners, playcount)\"\"\"\n",
    "    if name in cache:\n",
    "        return cache[name]\n",
    "    try:\n",
    "        r = requests.get(URL, params={\n",
    "            \"method\": \"artist.getinfo\",\n",
    "            \"artist\": urllib.parse.quote(name),\n",
    "            \"api_key\": API_KEY,\n",
    "            \"format\": \"json\"\n",
    "        }, timeout=20).json()\n",
    "        a = r.get(\"artist\", {})\n",
    "        info = {\n",
    "            \"similares\": \", \".join([x[\"name\"] for x in a.get(\"similar\", {}).get(\"artist\", [])[:3]]),\n",
    "            \"bio\": a.get(\"bio\", {}).get(\"summary\", \"\"),\n",
    "            \"listeners\": a.get(\"stats\", {}).get(\"listeners\", \"\"),\n",
    "            \"playcount\": a.get(\"stats\", {}).get(\"playcount\", \"\")\n",
    "        }\n",
    "    except:\n",
    "        info = {\"similares\":\"\",\"bio\":\"\",\"listeners\":\"\",\"playcount\":\"\"}\n",
    "    cache[name] = info\n",
    "    return info\n",
    "\n",
    "# ---------- Descargar artistas ----------\n",
    "todos = []\n",
    "años = list(range(2019, 2025))  # [2019, 2020, 2021, 2022, 2023, 2024]\n",
    "\n",
    "for g in GENRES:\n",
    "    print(f\"\\n🎵 Descargando artistas del género: {g} ...\")\n",
    "    top_artists = get_top_artists(g, limit=LIMIT_ARTISTS)\n",
    "    \n",
    "    for idx, a in enumerate(top_artists):\n",
    "        nombre = a.get(\"name\", \"\")\n",
    "        if nombre:\n",
    "            # Asignar años de forma cíclica (2019 → 2020 → … → 2024 → 2019 → …)\n",
    "            anio = años[idx % len(años)]\n",
    "            \n",
    "            todos.append({\n",
    "                \"artista\": nombre,\n",
    "                \"genero\": g,\n",
    "                \"anio\": anio,\n",
    "                **get_artist_info(nombre)\n",
    "            })\n",
    "        time.sleep(0.1)\n",
    "\n",
    "# ---------- Guardar CSV ----------\n",
    "df = pd.DataFrame(todos)\n",
    "df.to_csv(\"artistas_lastfm.csv\", index=False, encoding=\"utf-8\")\n",
    "\n",
    "print(\"\\n✅ CSV generado con columnas:\", \", \".join(df.columns))\n",
    "print(\"Total de artistas guardados:\", len(df))\n"
   ]
  }
 ],
 "metadata": {
  "kernelspec": {
   "display_name": "Python 3",
   "language": "python",
   "name": "python3"
  },
  "language_info": {
   "codemirror_mode": {
    "name": "ipython",
    "version": 3
   },
   "file_extension": ".py",
   "mimetype": "text/x-python",
   "name": "python",
   "nbconvert_exporter": "python",
   "pygments_lexer": "ipython3",
   "version": "3.13.5"
  }
 },
 "nbformat": 4,
 "nbformat_minor": 5
}
